{
 "cells": [
  {
   "cell_type": "code",
   "execution_count": 5,
   "metadata": {},
   "outputs": [
    {
     "name": "stdout",
     "output_type": "stream",
     "text": [
      "not trimming from first trial\n",
      "\n",
      " normalizing red\n",
      "0 117 234 351 468 585 702 819 936 1053 1170 \n",
      " normalizing green\n",
      "0 117 234 351 468 585 702 819 936 1053 1170 \n",
      " smoothing red data\n",
      "0 117 234 351 468 585 702 819 936 1053 1170 \n",
      " smoothing green data\n",
      "0 117 234 351 468 585 702 819 936 1053 1170 \n",
      " calculate red F0\n",
      "0 117 234 351 468 585 702 819 936 1053 1170 \n",
      " calculate green F0\n",
      "0 117 234 351 468 585 702 819 936 1053 1170 \n",
      " rescale red data\n",
      "0 117 234 351 468 585 702 819 936 1053 1170 \n",
      " rescale green data\n",
      "0 117 234 351 468 585 702 819 936 1053 1170 \n",
      " rescale red F0\n",
      "0 117 234 351 468 585 702 819 936 1053 1170 \n",
      " rescale green F0\n",
      "0 117 234 351 468 585 702 819 936 1053 1170 \n",
      " calculate O and dOO (ratiometric dFF)\n",
      "0 117 234 351 468 585 702 819 936 1053 1170 \n",
      " find and remove bad units\n",
      "\n",
      " saving\n"
     ]
    }
   ],
   "source": [
    "import sys\n",
    "sys.path.insert(0, '../flygenvectors/')\n",
    "\n",
    "from source_process import scape\n",
    "\n",
    "# -------------------------------------------------------------------\n",
    "baseFolder = '/Users/evan/Dropbox/_AxelLab/_flygenvectors_dataShare/'\n",
    "expDate = '2019_06_30'\n",
    "flyNum = 'fly1'\n",
    "secsToTrim = 20. # number of seconds to skip from trials 2-end when compiling data and calculating dFF\n",
    "# -------------------------------------------------------------------\n",
    "\n",
    "\n",
    "dataset = expDate+'_Nsyb_NLS6s_walk_'+flyNum\n",
    "rawFile = 'raw/'+dataset+'_raw.npz'\n",
    "saveFile = dataset\n",
    "\n",
    "obj = scape(baseFolder+expDate+'_'+flyNum+'/')\n",
    "obj.process(rawFile, saveFile, secsToTrim)\n",
    "\n",
    "# note: bad cells can generate RuntimeWarnings. These units are removed."
   ]
  },
  {
   "cell_type": "code",
   "execution_count": null,
   "metadata": {},
   "outputs": [],
   "source": []
  }
 ],
 "metadata": {
  "kernelspec": {
   "display_name": "flygenvectors",
   "language": "python",
   "name": "flygenvectors"
  },
  "language_info": {
   "codemirror_mode": {
    "name": "ipython",
    "version": 3
   },
   "file_extension": ".py",
   "mimetype": "text/x-python",
   "name": "python",
   "nbconvert_exporter": "python",
   "pygments_lexer": "ipython3",
   "version": "3.6.8"
  }
 },
 "nbformat": 4,
 "nbformat_minor": 2
}
