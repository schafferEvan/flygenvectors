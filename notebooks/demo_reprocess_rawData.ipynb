{
 "cells": [
  {
   "cell_type": "code",
   "execution_count": 1,
   "metadata": {},
   "outputs": [
    {
     "name": "stdout",
     "output_type": "stream",
     "text": [
      "not trimming from first trial\n",
      "\n",
      " normalizing red\n",
      "0 76 152 228 304 380 456 532 608 684 760 \n",
      " normalizing green\n",
      "0 76 152 228 304 380 456 532 608 684 760 \n",
      " smoothing red data\n",
      "0 76 152 228 304 380 456 532 608 684 760 \n",
      " smoothing green data\n",
      "0 76 152 228 304 380 456 532 608 684 760 \n",
      " calculate red F0\n",
      "0 "
     ]
    },
    {
     "name": "stderr",
     "output_type": "stream",
     "text": [
      "../flygenvectors/source_process.py:182: RuntimeWarning: invalid value encountered in double_scalars\n",
      "  self.rsq[i] = (c[0,1]/np.sqrt(c[0,0]*c[1,1]))**2\n"
     ]
    },
    {
     "name": "stdout",
     "output_type": "stream",
     "text": [
      "76 152 228 304 380 456 532 608 684 760 \n",
      " calculate green F0\n",
      "0 76 152 228 304 380 456 532 608 684 760 \n",
      " rescale red data\n",
      "0 76 152 228 304 380 456 532 608 684 760 \n",
      " rescale green data\n",
      "0 76 152 228 304 380 456 532 608 684 760 \n",
      " rescale red F0\n",
      "0 76 152 228 304 380 456 532 608 684 760 \n",
      " rescale green F0\n",
      "0 76 152 228 304 380 456 532 608 684 760 "
     ]
    },
    {
     "name": "stderr",
     "output_type": "stream",
     "text": [
      "../flygenvectors/source_process.py:451: RuntimeWarning: divide by zero encountered in true_divide\n",
      "  self.dYY = np.divide(self.Ygoodsc-self.Y0sc, self.Y0sc)\n",
      "../flygenvectors/source_process.py:451: RuntimeWarning: invalid value encountered in true_divide\n",
      "  self.dYY = np.divide(self.Ygoodsc-self.Y0sc, self.Y0sc)\n",
      "../flygenvectors/source_process.py:452: RuntimeWarning: divide by zero encountered in true_divide\n",
      "  self.dRR = np.divide(self.Rgoodsc-self.R0sc, self.R0sc)\n",
      "../flygenvectors/source_process.py:452: RuntimeWarning: invalid value encountered in true_divide\n",
      "  self.dRR = np.divide(self.Rgoodsc-self.R0sc, self.R0sc)\n"
     ]
    },
    {
     "name": "stdout",
     "output_type": "stream",
     "text": [
      "\n",
      " calculate O and dOO (ratiometric dFF)\n",
      "0 76 152 228 304 380 456 532 608 684 760 "
     ]
    },
    {
     "name": "stderr",
     "output_type": "stream",
     "text": [
      "../flygenvectors/source_process.py:112: RuntimeWarning: invalid value encountered in true_divide\n",
      "  otmp = np.divide(y,r)\n"
     ]
    },
    {
     "name": "stdout",
     "output_type": "stream",
     "text": [
      "\n",
      " find and remove bad units\n",
      "\n",
      " saving\n"
     ]
    }
   ],
   "source": [
    "import sys\n",
    "sys.path.insert(0, '../flygenvectors/')\n",
    "\n",
    "from source_process import scape\n",
    "\n",
    "# -------------------------------------------------------------------\n",
    "baseFolder = '/Users/evan/Dropbox/_AxelLab/_flygenvectors_dataShare/'\n",
    "dataset = '2019_06_26_fly2'\n",
    "secsToTrim = 10. # number of seconds to skip from trials 2-end when compiling data and calculating dFF\n",
    "# -------------------------------------------------------------------\n",
    "\n",
    "\n",
    "rawFile = 'raw/'+dataset+'_raw.npz'\n",
    "saveFile = dataset\n",
    "\n",
    "obj = scape(baseFolder+dataset+'/')\n",
    "obj.process(rawFile, saveFile, secsToTrim)\n",
    "\n",
    "# note: bad cells can generate RuntimeWarnings. These units are removed."
   ]
  },
  {
   "cell_type": "code",
   "execution_count": null,
   "metadata": {},
   "outputs": [],
   "source": []
  }
 ],
 "metadata": {
  "kernelspec": {
   "display_name": "flygenvectors",
   "language": "python",
   "name": "flygenvectors"
  },
  "language_info": {
   "codemirror_mode": {
    "name": "ipython",
    "version": 3
   },
   "file_extension": ".py",
   "mimetype": "text/x-python",
   "name": "python",
   "nbconvert_exporter": "python",
   "pygments_lexer": "ipython3",
   "version": "3.6.8"
  }
 },
 "nbformat": 4,
 "nbformat_minor": 2
}
