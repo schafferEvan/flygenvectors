{
 "cells": [
  {
   "cell_type": "code",
   "execution_count": null,
   "metadata": {},
   "outputs": [
    {
     "name": "stdout",
     "output_type": "stream",
     "text": [
      "not trimming from first trial\n",
      "\n",
      " normalizing red\n",
      "0 265 530 795 1060 1325 1590 1855 2120 2385 2650 \n",
      " normalizing green\n",
      "0 265 530 795 1060 1325 1590 1855 2120 2385 2650 \n",
      " smoothing red data\n",
      "0 265 530 "
     ]
    }
   ],
   "source": [
    "import sys\n",
    "sys.path.insert(0, '../flygenvectors/')\n",
    "\n",
    "from source_process import scape\n",
    "\n",
    "# -------------------------------------------------------------------\n",
    "baseFolder = '/Users/evan/Dropbox/_AxelLab/_flygenvectors_dataShare/'\n",
    "expDate = '2019_07_01'\n",
    "flyNum = 'fly2'\n",
    "secsToTrim = 20. # number of seconds to skip from trials 2-end when compiling data and calculating dFF\n",
    "# -------------------------------------------------------------------\n",
    "\n",
    "\n",
    "dataset = expDate+'_Nsyb_NLS6s_walk_'+flyNum\n",
    "rawFile = 'raw/'+dataset+'_raw.npz'\n",
    "saveFile = dataset\n",
    "\n",
    "obj = scape(baseFolder+expDate+'_'+flyNum+'/')\n",
    "obj.process(rawFile, saveFile, secsToTrim)\n",
    "\n",
    "# note: bad cells can generate RuntimeWarnings. These units are removed."
   ]
  },
  {
   "cell_type": "code",
   "execution_count": null,
   "metadata": {},
   "outputs": [],
   "source": []
  }
 ],
 "metadata": {
  "kernelspec": {
   "display_name": "flygenvectors",
   "language": "python",
   "name": "flygenvectors"
  },
  "language_info": {
   "codemirror_mode": {
    "name": "ipython",
    "version": 3
   },
   "file_extension": ".py",
   "mimetype": "text/x-python",
   "name": "python",
   "nbconvert_exporter": "python",
   "pygments_lexer": "ipython3",
   "version": "3.6.8"
  }
 },
 "nbformat": 4,
 "nbformat_minor": 2
}
