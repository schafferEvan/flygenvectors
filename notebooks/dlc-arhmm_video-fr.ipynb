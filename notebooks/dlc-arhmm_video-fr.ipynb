{
 "cells": [
  {
   "cell_type": "markdown",
   "metadata": {},
   "source": [
    "# Summary"
   ]
  },
  {
   "cell_type": "code",
   "execution_count": 1,
   "metadata": {},
   "outputs": [],
   "source": [
    "%load_ext autoreload\n",
    "\n",
    "import os\n",
    "import numpy as np\n",
    "import scipy.io as sio\n",
    "\n",
    "import matplotlib.pyplot as plt\n",
    "import seaborn as sns\n",
    "import pandas as pd\n",
    "from scipy.stats import zscore\n",
    "\n",
    "import flygenvectors.plotting as plotting\n",
    "import flygenvectors.utils as utils\n",
    "import flygenvectors.ssmutils as ssmutils\n",
    "import flygenvectors.data as dataUtils\n",
    "from flygenvectors.dlc import DLCLabels"
   ]
  },
  {
   "cell_type": "code",
   "execution_count": 2,
   "metadata": {},
   "outputs": [],
   "source": [
    "plot_dark = False\n",
    "\n",
    "sns.set_context('talk')\n",
    "if plot_dark:\n",
    "    plt.style.use('dark_background')\n",
    "#     cmap_rasters = 'inferno'\n",
    "    cmap_rasters = 'afmhot'\n",
    "else:\n",
    "    sns.set_style('white')\n",
    "    cmap_rasters = 'Greys'"
   ]
  },
  {
   "cell_type": "markdown",
   "metadata": {},
   "source": [
    "# 1. Load and preprocess data"
   ]
  },
  {
   "cell_type": "code",
   "execution_count": 3,
   "metadata": {},
   "outputs": [
    {
     "name": "stdout",
     "output_type": "stream",
     "text": [
      "loading labels from /media/mattw/data/schaffer/2019_07_01_fly2/2019_07_01_fly2DeepCut_resnet50_RunningJul3shuffle1_1030000.csv...done\n",
      "total time points: 192980\n",
      "linearly interpolating labels (window=3)...done\n",
      "linearly interpolated 16958 labels\n",
      "unitizing labels...done\n",
      "applying median filter to labels...done\n",
      "extracting runs of labels <= likelihood=0.80...done\n",
      "extracted 558 runs for a total of 14404 time points\n",
      "removing 14404 low-likelihood time points\n",
      "extracting runs of labels >= likelihood=0.00...done\n",
      "extracted 387 runs for a total of 169812 time points\n",
      "splitting labels into ['train', 'test', 'val']...done\n",
      "\ttrain: 141726 time points in 323 trials\n",
      "\ttest: 0 time points in 0 trials\n",
      "\tval: 28086 time points in 64 trials\n",
      "\n",
      "saving models in the following directory: \"dlc-arhmm\"\n"
     ]
    }
   ],
   "source": [
    "# options\n",
    "# expt_id = '190424_f3'  # (run+feed)\n",
    "# expt_id = '180824_f3r1'\n",
    "# expt_id = '2019_06_26_fly2'\n",
    "# expt_id = '2019_06_28_fly2'\n",
    "# expt_id = '2019_06_30_fly1'\n",
    "expt_id = '2019_07_01_fly2'\n",
    "\n",
    "# preprocessing directives\n",
    "preprocess_list = {\n",
    "    'interpolate_labels': {'thresh': 0.8, 'window': 3}, # \"bad\" labels replaced with avg of neighboring \"good\" labels\n",
    "    # 'standardize': {}, # zscore labels\n",
    "    'unitize': {}, # scale labels in [0, 1]\n",
    "    'filter': {'type': 'median', 'window_size': 5},\n",
    "    'remove_bad_runs': {'thresh': 0.8, 'min_length': 10} # remove runs where at least one label is \"bad\"\n",
    "}\n",
    "do_fit_differences = False  # fit label differences rather than original labels\n",
    "\n",
    "# load and preprocess dlc labels\n",
    "dlc_obj = DLCLabels(expt_id)\n",
    "dlc_obj.load_from_csv()\n",
    "dlc_obj.preprocess(preprocess_list)\n",
    "\n",
    "# split labels into train/test/val\n",
    "dlc_obj.extract_runs_by_likelihood(\n",
    "    likelihoods=dlc_obj.labels['l'], l_thresh=0.0, min_length=100, max_length=500, \n",
    "    skip_idxs=dlc_obj.skip_idxs)\n",
    "dlc_obj.split_labels(\n",
    "    dtypes=['train', 'test', 'val'], dtype_lens=[5, 0, 1], diff=do_fit_differences)\n",
    "\n",
    "# define model dir based on preprocessing\n",
    "model_dir = 'dlc-arhmm'\n",
    "if do_fit_differences:\n",
    "    model_dir += '-diff'\n",
    "print('\\nsaving models in the following directory: \"%s\"' % model_dir)"
   ]
  },
  {
   "cell_type": "markdown",
   "metadata": {},
   "source": [
    "### check outliers"
   ]
  },
  {
   "cell_type": "code",
   "execution_count": 4,
   "metadata": {},
   "outputs": [],
   "source": [
    "# # plot dlc labels/likelihoods over time\n",
    "# slc = (1200, 1400)\n",
    "# plot_diffs = False\n",
    "# frac = 20 \n",
    "\n",
    "# plt.figure(figsize=(12, 10))\n",
    "\n",
    "# plt.subplot(311)\n",
    "# plt.plot(np.arange(slc[0], slc[1]), dlc_obj.labels['l'][slice(*slc), :])\n",
    "# plt.title('likelihoods')\n",
    "\n",
    "# plt.subplot(312)\n",
    "# coord = 'x'\n",
    "# behavior = frac * dlc_obj.labels[coord] / np.max(np.abs(dlc_obj.labels[coord])) + \\\n",
    "#     np.arange(dlc_obj.labels[coord].shape[1])\n",
    "# if plot_diffs:\n",
    "#     behavior = np.concatenate(\n",
    "#         [np.zeros(shape=(1, behavior.shape[1])), np.diff(behavior, axis=0)])\n",
    "# plt.plot(np.arange(slc[0], slc[1]), behavior[slice(*slc), :])\n",
    "# plt.title('%s coords' % coord)\n",
    "\n",
    "# plt.subplot(313)\n",
    "# coord = 'y'\n",
    "# behavior = frac * dlc_obj.labels[coord] / np.max(np.abs(dlc_obj.labels[coord])) + \\\n",
    "#     np.arange(dlc_obj.labels[coord].shape[1])\n",
    "# if plot_diffs:\n",
    "#     behavior = np.concatenate(\n",
    "#         [np.zeros(shape=(1, behavior.shape[1])), np.diff(behavior, axis=0)])\n",
    "# plt.plot(np.arange(slc[0], slc[1]), behavior[slice(*slc), :])\n",
    "# plt.title('%s coords' % coord)\n",
    "\n",
    "# plt.xlabel('Time (bins)')\n",
    "# plt.tight_layout()\n",
    "# plt.show()"
   ]
  },
  {
   "cell_type": "code",
   "execution_count": 5,
   "metadata": {},
   "outputs": [
    {
     "data": {
      "image/png": "[encoded data removed]",
      "text/plain": [
       "<Figure size 432x288 with 1 Axes>"
      ]
     },
     "metadata": {},
     "output_type": "display_data"
    }
   ],
   "source": [
    "# plot distribution of run lengths\n",
    "import matplotlib.pyplot as plt\n",
    "plt.figure()\n",
    "plt.hist([len(i) for i in dlc_obj.idxs_valid])\n",
    "plt.xlabel('Run length')\n",
    "plt.ylabel('Count')\n",
    "plt.title('Distribution of data runs')\n",
    "plt.show()"
   ]
  },
  {
   "cell_type": "markdown",
   "metadata": {},
   "source": [
    "# 2. Fit dynamics"
   ]
  },
  {
   "cell_type": "markdown",
   "metadata": {},
   "source": [
    "### ARHMM - how many discrete states?"
   ]
  },
  {
   "cell_type": "code",
   "execution_count": 6,
   "metadata": {},
   "outputs": [
    {
     "name": "stdout",
     "output_type": "stream",
     "text": [
      "Fitting arhmm-s4-3 with 2 states\n"
     ]
    },
    {
     "data": {
      "text/plain": [
       "HBox(children=(IntProgress(value=0, max=50), HTML(value='')))"
      ]
     },
     "metadata": {},
     "output_type": "display_data"
    },
    {
     "name": "stdout",
     "output_type": "stream",
     "text": [
      "\n",
      "saving model to /home/mattw/results/fly/2019_07_01_fly2/dlc-arhmm/obs=ar_trans=sticky_lags=3_K=02_kappa=1e+04.pkl\n",
      "Fitting arhmm-s4-3 with 3 states\n"
     ]
    },
    {
     "data": {
      "text/plain": [
       "HBox(children=(IntProgress(value=0, max=50), HTML(value='')))"
      ]
     },
     "metadata": {},
     "output_type": "display_data"
    },
    {
     "name": "stdout",
     "output_type": "stream",
     "text": [
      "saving model to /home/mattw/results/fly/2019_07_01_fly2/dlc-arhmm/obs=ar_trans=sticky_lags=3_K=03_kappa=1e+04.pkl\n",
      "Fitting arhmm-s4-3 with 4 states\n"
     ]
    },
    {
     "data": {
      "text/plain": [
       "HBox(children=(IntProgress(value=0, max=50), HTML(value='')))"
      ]
     },
     "metadata": {},
     "output_type": "display_data"
    },
    {
     "name": "stdout",
     "output_type": "stream",
     "text": [
      "saving model to /home/mattw/results/fly/2019_07_01_fly2/dlc-arhmm/obs=ar_trans=sticky_lags=3_K=04_kappa=1e+04.pkl\n",
      "Fitting arhmm-s4-3 with 5 states\n"
     ]
    },
    {
     "data": {
      "text/plain": [
       "HBox(children=(IntProgress(value=0, max=50), HTML(value='')))"
      ]
     },
     "metadata": {},
     "output_type": "display_data"
    },
    {
     "name": "stdout",
     "output_type": "stream",
     "text": [
      "saving model to /home/mattw/results/fly/2019_07_01_fly2/dlc-arhmm/obs=ar_trans=sticky_lags=3_K=05_kappa=1e+04.pkl\n",
      "Fitting arhmm-s4-3 with 6 states\n"
     ]
    },
    {
     "data": {
      "text/plain": [
       "HBox(children=(IntProgress(value=0, max=50), HTML(value='')))"
      ]
     },
     "metadata": {},
     "output_type": "display_data"
    },
    {
     "name": "stdout",
     "output_type": "stream",
     "text": [
      "saving model to /home/mattw/results/fly/2019_07_01_fly2/dlc-arhmm/obs=ar_trans=sticky_lags=3_K=06_kappa=1e+04.pkl\n",
      "Fitting arhmm-s4-3 with 9 states\n"
     ]
    },
    {
     "data": {
      "text/plain": [
       "HBox(children=(IntProgress(value=0, max=50), HTML(value='')))"
      ]
     },
     "metadata": {},
     "output_type": "display_data"
    },
    {
     "name": "stdout",
     "output_type": "stream",
     "text": [
      "saving model to /home/mattw/results/fly/2019_07_01_fly2/dlc-arhmm/obs=ar_trans=sticky_lags=3_K=09_kappa=1e+04.pkl\n",
      "Fitting arhmm-s4-3 with 12 states\n"
     ]
    },
    {
     "data": {
      "text/plain": [
       "HBox(children=(IntProgress(value=0, max=50), HTML(value='')))"
      ]
     },
     "metadata": {},
     "output_type": "display_data"
    },
    {
     "name": "stdout",
     "output_type": "stream",
     "text": [
      "saving model to /home/mattw/results/fly/2019_07_01_fly2/dlc-arhmm/obs=ar_trans=sticky_lags=3_K=12_kappa=1e+04.pkl\n",
      "Fitting arhmm-s4-3 with 15 states\n"
     ]
    },
    {
     "data": {
      "text/plain": [
       "HBox(children=(IntProgress(value=0, max=50), HTML(value='')))"
      ]
     },
     "metadata": {},
     "output_type": "display_data"
    },
    {
     "name": "stdout",
     "output_type": "stream",
     "text": [
      "saving model to /home/mattw/results/fly/2019_07_01_fly2/dlc-arhmm/obs=ar_trans=sticky_lags=3_K=15_kappa=1e+04.pkl\n",
      "Fitting arhmm-s4-3 with 18 states\n"
     ]
    },
    {
     "data": {
      "text/plain": [
       "HBox(children=(IntProgress(value=0, max=50), HTML(value='')))"
      ]
     },
     "metadata": {},
     "output_type": "display_data"
    },
    {
     "name": "stdout",
     "output_type": "stream",
     "text": [
      "saving model to /home/mattw/results/fly/2019_07_01_fly2/dlc-arhmm/obs=ar_trans=sticky_lags=3_K=18_kappa=1e+04.pkl\n",
      "Fitting arhmm-s6-3 with 2 states\n"
     ]
    },
    {
     "data": {
      "text/plain": [
       "HBox(children=(IntProgress(value=0, max=50), HTML(value='')))"
      ]
     },
     "metadata": {},
     "output_type": "display_data"
    },
    {
     "name": "stdout",
     "output_type": "stream",
     "text": [
      "saving model to /home/mattw/results/fly/2019_07_01_fly2/dlc-arhmm/obs=ar_trans=sticky_lags=3_K=02_kappa=1e+06.pkl\n",
      "Fitting arhmm-s6-3 with 3 states\n"
     ]
    },
    {
     "data": {
      "text/plain": [
       "HBox(children=(IntProgress(value=0, max=50), HTML(value='')))"
      ]
     },
     "metadata": {},
     "output_type": "display_data"
    },
    {
     "name": "stdout",
     "output_type": "stream",
     "text": [
      "saving model to /home/mattw/results/fly/2019_07_01_fly2/dlc-arhmm/obs=ar_trans=sticky_lags=3_K=03_kappa=1e+06.pkl\n",
      "Fitting arhmm-s6-3 with 4 states\n"
     ]
    },
    {
     "data": {
      "text/plain": [
       "HBox(children=(IntProgress(value=0, max=50), HTML(value='')))"
      ]
     },
     "metadata": {},
     "output_type": "display_data"
    },
    {
     "name": "stdout",
     "output_type": "stream",
     "text": [
      "saving model to /home/mattw/results/fly/2019_07_01_fly2/dlc-arhmm/obs=ar_trans=sticky_lags=3_K=04_kappa=1e+06.pkl\n",
      "Fitting arhmm-s6-3 with 5 states\n"
     ]
    },
    {
     "data": {
      "text/plain": [
       "HBox(children=(IntProgress(value=0, max=50), HTML(value='')))"
      ]
     },
     "metadata": {},
     "output_type": "display_data"
    },
    {
     "name": "stdout",
     "output_type": "stream",
     "text": [
      "saving model to /home/mattw/results/fly/2019_07_01_fly2/dlc-arhmm/obs=ar_trans=sticky_lags=3_K=05_kappa=1e+06.pkl\n",
      "Fitting arhmm-s6-3 with 6 states\n"
     ]
    },
    {
     "data": {
      "text/plain": [
       "HBox(children=(IntProgress(value=0, max=50), HTML(value='')))"
      ]
     },
     "metadata": {},
     "output_type": "display_data"
    },
    {
     "name": "stdout",
     "output_type": "stream",
     "text": [
      "saving model to /home/mattw/results/fly/2019_07_01_fly2/dlc-arhmm/obs=ar_trans=sticky_lags=3_K=06_kappa=1e+06.pkl\n",
      "Fitting arhmm-s6-3 with 9 states\n",
      "loading model from /home/mattw/results/fly/2019_07_01_fly2/dlc-arhmm/obs=ar_trans=sticky_lags=3_K=09_kappa=1e+06.pkl\n",
      "Fitting arhmm-s6-3 with 12 states\n"
     ]
    },
    {
     "data": {
      "text/plain": [
       "HBox(children=(IntProgress(value=0, max=50), HTML(value='')))"
      ]
     },
     "metadata": {},
     "output_type": "display_data"
    },
    {
     "name": "stdout",
     "output_type": "stream",
     "text": [
      "saving model to /home/mattw/results/fly/2019_07_01_fly2/dlc-arhmm/obs=ar_trans=sticky_lags=3_K=12_kappa=1e+06.pkl\n",
      "Fitting arhmm-s6-3 with 15 states\n"
     ]
    },
    {
     "data": {
      "text/plain": [
       "HBox(children=(IntProgress(value=0, max=50), HTML(value='')))"
      ]
     },
     "metadata": {},
     "output_type": "display_data"
    },
    {
     "name": "stdout",
     "output_type": "stream",
     "text": [
      "saving model to /home/mattw/results/fly/2019_07_01_fly2/dlc-arhmm/obs=ar_trans=sticky_lags=3_K=15_kappa=1e+06.pkl\n",
      "Fitting arhmm-s6-3 with 18 states\n"
     ]
    },
    {
     "data": {
      "text/plain": [
       "HBox(children=(IntProgress(value=0, max=50), HTML(value='')))"
      ]
     },
     "metadata": {},
     "output_type": "display_data"
    },
    {
     "name": "stdout",
     "output_type": "stream",
     "text": [
      "saving model to /home/mattw/results/fly/2019_07_01_fly2/dlc-arhmm/obs=ar_trans=sticky_lags=3_K=18_kappa=1e+06.pkl\n",
      "Fitting arhmm-s8-3 with 2 states\n"
     ]
    },
    {
     "data": {
      "text/plain": [
       "HBox(children=(IntProgress(value=0, max=50), HTML(value='')))"
      ]
     },
     "metadata": {},
     "output_type": "display_data"
    },
    {
     "name": "stdout",
     "output_type": "stream",
     "text": [
      "saving model to /home/mattw/results/fly/2019_07_01_fly2/dlc-arhmm/obs=ar_trans=sticky_lags=3_K=02_kappa=1e+08.pkl\n",
      "Fitting arhmm-s8-3 with 3 states\n"
     ]
    },
    {
     "data": {
      "text/plain": [
       "HBox(children=(IntProgress(value=0, max=50), HTML(value='')))"
      ]
     },
     "metadata": {},
     "output_type": "display_data"
    },
    {
     "name": "stdout",
     "output_type": "stream",
     "text": [
      "saving model to /home/mattw/results/fly/2019_07_01_fly2/dlc-arhmm/obs=ar_trans=sticky_lags=3_K=03_kappa=1e+08.pkl\n",
      "Fitting arhmm-s8-3 with 4 states\n"
     ]
    },
    {
     "data": {
      "text/plain": [
       "HBox(children=(IntProgress(value=0, max=50), HTML(value='')))"
      ]
     },
     "metadata": {},
     "output_type": "display_data"
    },
    {
     "name": "stdout",
     "output_type": "stream",
     "text": [
      "saving model to /home/mattw/results/fly/2019_07_01_fly2/dlc-arhmm/obs=ar_trans=sticky_lags=3_K=04_kappa=1e+08.pkl\n",
      "Fitting arhmm-s8-3 with 5 states\n"
     ]
    },
    {
     "data": {
      "text/plain": [
       "HBox(children=(IntProgress(value=0, max=50), HTML(value='')))"
      ]
     },
     "metadata": {},
     "output_type": "display_data"
    },
    {
     "name": "stdout",
     "output_type": "stream",
     "text": [
      "saving model to /home/mattw/results/fly/2019_07_01_fly2/dlc-arhmm/obs=ar_trans=sticky_lags=3_K=05_kappa=1e+08.pkl\n",
      "Fitting arhmm-s8-3 with 6 states\n"
     ]
    },
    {
     "data": {
      "text/plain": [
       "HBox(children=(IntProgress(value=0, max=50), HTML(value='')))"
      ]
     },
     "metadata": {},
     "output_type": "display_data"
    },
    {
     "name": "stdout",
     "output_type": "stream",
     "text": [
      "saving model to /home/mattw/results/fly/2019_07_01_fly2/dlc-arhmm/obs=ar_trans=sticky_lags=3_K=06_kappa=1e+08.pkl\n",
      "Fitting arhmm-s8-3 with 9 states\n",
      "loading model from /home/mattw/results/fly/2019_07_01_fly2/dlc-arhmm/obs=ar_trans=sticky_lags=3_K=09_kappa=1e+08.pkl\n",
      "Fitting arhmm-s8-3 with 12 states\n"
     ]
    },
    {
     "data": {
      "text/plain": [
       "HBox(children=(IntProgress(value=0, max=50), HTML(value='')))"
      ]
     },
     "metadata": {},
     "output_type": "display_data"
    },
    {
     "name": "stdout",
     "output_type": "stream",
     "text": [
      "saving model to /home/mattw/results/fly/2019_07_01_fly2/dlc-arhmm/obs=ar_trans=sticky_lags=3_K=12_kappa=1e+08.pkl\n",
      "Fitting arhmm-s8-3 with 15 states\n"
     ]
    },
    {
     "data": {
      "text/plain": [
       "HBox(children=(IntProgress(value=0, max=50), HTML(value='')))"
      ]
     },
     "metadata": {},
     "output_type": "display_data"
    },
    {
     "name": "stdout",
     "output_type": "stream",
     "text": [
      "saving model to /home/mattw/results/fly/2019_07_01_fly2/dlc-arhmm/obs=ar_trans=sticky_lags=3_K=15_kappa=1e+08.pkl\n",
      "Fitting arhmm-s8-3 with 18 states\n"
     ]
    },
    {
     "data": {
      "text/plain": [
       "HBox(children=(IntProgress(value=0, max=50), HTML(value='')))"
      ]
     },
     "metadata": {},
     "output_type": "display_data"
    },
    {
     "name": "stdout",
     "output_type": "stream",
     "text": [
      "saving model to /home/mattw/results/fly/2019_07_01_fly2/dlc-arhmm/obs=ar_trans=sticky_lags=3_K=18_kappa=1e+08.pkl\n",
      "Fitting arhmm-1 with 2 states\n"
     ]
    },
    {
     "data": {
      "text/plain": [
       "HBox(children=(IntProgress(value=0, max=50), HTML(value='')))"
      ]
     },
     "metadata": {},
     "output_type": "display_data"
    },
    {
     "name": "stdout",
     "output_type": "stream",
     "text": [
      "saving model to /home/mattw/results/fly/2019_07_01_fly2/dlc-arhmm/obs=ar_trans=standard_lags=1_K=02.pkl\n",
      "Fitting arhmm-1 with 3 states\n"
     ]
    },
    {
     "data": {
      "text/plain": [
       "HBox(children=(IntProgress(value=0, max=50), HTML(value='')))"
      ]
     },
     "metadata": {},
     "output_type": "display_data"
    },
    {
     "name": "stdout",
     "output_type": "stream",
     "text": [
      "saving model to /home/mattw/results/fly/2019_07_01_fly2/dlc-arhmm/obs=ar_trans=standard_lags=1_K=03.pkl\n",
      "Fitting arhmm-1 with 4 states\n"
     ]
    },
    {
     "data": {
      "text/plain": [
       "HBox(children=(IntProgress(value=0, max=50), HTML(value='')))"
      ]
     },
     "metadata": {},
     "output_type": "display_data"
    },
    {
     "name": "stdout",
     "output_type": "stream",
     "text": [
      "saving model to /home/mattw/results/fly/2019_07_01_fly2/dlc-arhmm/obs=ar_trans=standard_lags=1_K=04.pkl\n",
      "Fitting arhmm-1 with 5 states\n"
     ]
    },
    {
     "data": {
      "text/plain": [
       "HBox(children=(IntProgress(value=0, max=50), HTML(value='')))"
      ]
     },
     "metadata": {},
     "output_type": "display_data"
    },
    {
     "name": "stdout",
     "output_type": "stream",
     "text": [
      "saving model to /home/mattw/results/fly/2019_07_01_fly2/dlc-arhmm/obs=ar_trans=standard_lags=1_K=05.pkl\n",
      "Fitting arhmm-1 with 6 states\n"
     ]
    },
    {
     "data": {
      "text/plain": [
       "HBox(children=(IntProgress(value=0, max=50), HTML(value='')))"
      ]
     },
     "metadata": {},
     "output_type": "display_data"
    },
    {
     "name": "stdout",
     "output_type": "stream",
     "text": [
      "saving model to /home/mattw/results/fly/2019_07_01_fly2/dlc-arhmm/obs=ar_trans=standard_lags=1_K=06.pkl\n",
      "Fitting arhmm-1 with 9 states\n",
      "loading model from /home/mattw/results/fly/2019_07_01_fly2/dlc-arhmm/obs=ar_trans=standard_lags=1_K=09.pkl\n",
      "Fitting arhmm-1 with 12 states\n"
     ]
    },
    {
     "data": {
      "text/plain": [
       "HBox(children=(IntProgress(value=0, max=50), HTML(value='')))"
      ]
     },
     "metadata": {},
     "output_type": "display_data"
    },
    {
     "name": "stdout",
     "output_type": "stream",
     "text": [
      "saving model to /home/mattw/results/fly/2019_07_01_fly2/dlc-arhmm/obs=ar_trans=standard_lags=1_K=12.pkl\n",
      "Fitting arhmm-1 with 15 states\n"
     ]
    },
    {
     "data": {
      "text/plain": [
       "HBox(children=(IntProgress(value=0, max=50), HTML(value='')))"
      ]
     },
     "metadata": {},
     "output_type": "display_data"
    },
    {
     "name": "stdout",
     "output_type": "stream",
     "text": [
      "saving model to /home/mattw/results/fly/2019_07_01_fly2/dlc-arhmm/obs=ar_trans=standard_lags=1_K=15.pkl\n",
      "Fitting arhmm-1 with 18 states\n"
     ]
    },
    {
     "data": {
      "text/plain": [
       "HBox(children=(IntProgress(value=0, max=50), HTML(value='')))"
      ]
     },
     "metadata": {},
     "output_type": "display_data"
    },
    {
     "name": "stdout",
     "output_type": "stream",
     "text": [
      "saving model to /home/mattw/results/fly/2019_07_01_fly2/dlc-arhmm/obs=ar_trans=standard_lags=1_K=18.pkl\n",
      "Fitting arhmm-2 with 2 states\n"
     ]
    },
    {
     "data": {
      "text/plain": [
       "HBox(children=(IntProgress(value=0, max=50), HTML(value='')))"
      ]
     },
     "metadata": {},
     "output_type": "display_data"
    },
    {
     "name": "stdout",
     "output_type": "stream",
     "text": [
      "saving model to /home/mattw/results/fly/2019_07_01_fly2/dlc-arhmm/obs=ar_trans=standard_lags=2_K=02.pkl\n",
      "Fitting arhmm-2 with 3 states\n"
     ]
    },
    {
     "data": {
      "text/plain": [
       "HBox(children=(IntProgress(value=0, max=50), HTML(value='')))"
      ]
     },
     "metadata": {},
     "output_type": "display_data"
    },
    {
     "name": "stdout",
     "output_type": "stream",
     "text": [
      "saving model to /home/mattw/results/fly/2019_07_01_fly2/dlc-arhmm/obs=ar_trans=standard_lags=2_K=03.pkl\n",
      "Fitting arhmm-2 with 4 states\n"
     ]
    },
    {
     "data": {
      "text/plain": [
       "HBox(children=(IntProgress(value=0, max=50), HTML(value='')))"
      ]
     },
     "metadata": {},
     "output_type": "display_data"
    },
    {
     "name": "stdout",
     "output_type": "stream",
     "text": [
      "saving model to /home/mattw/results/fly/2019_07_01_fly2/dlc-arhmm/obs=ar_trans=standard_lags=2_K=04.pkl\n",
      "Fitting arhmm-2 with 5 states\n"
     ]
    },
    {
     "data": {
      "text/plain": [
       "HBox(children=(IntProgress(value=0, max=50), HTML(value='')))"
      ]
     },
     "metadata": {},
     "output_type": "display_data"
    },
    {
     "name": "stdout",
     "output_type": "stream",
     "text": [
      "saving model to /home/mattw/results/fly/2019_07_01_fly2/dlc-arhmm/obs=ar_trans=standard_lags=2_K=05.pkl\n",
      "Fitting arhmm-2 with 6 states\n"
     ]
    },
    {
     "data": {
      "text/plain": [
       "HBox(children=(IntProgress(value=0, max=50), HTML(value='')))"
      ]
     },
     "metadata": {},
     "output_type": "display_data"
    },
    {
     "name": "stdout",
     "output_type": "stream",
     "text": [
      "saving model to /home/mattw/results/fly/2019_07_01_fly2/dlc-arhmm/obs=ar_trans=standard_lags=2_K=06.pkl\n",
      "Fitting arhmm-2 with 9 states\n"
     ]
    },
    {
     "data": {
      "text/plain": [
       "HBox(children=(IntProgress(value=0, max=50), HTML(value='')))"
      ]
     },
     "metadata": {},
     "output_type": "display_data"
    },
    {
     "name": "stdout",
     "output_type": "stream",
     "text": [
      "saving model to /home/mattw/results/fly/2019_07_01_fly2/dlc-arhmm/obs=ar_trans=standard_lags=2_K=09.pkl\n",
      "Fitting arhmm-2 with 12 states\n"
     ]
    },
    {
     "data": {
      "text/plain": [
       "HBox(children=(IntProgress(value=0, max=50), HTML(value='')))"
      ]
     },
     "metadata": {},
     "output_type": "display_data"
    },
    {
     "name": "stdout",
     "output_type": "stream",
     "text": [
      "saving model to /home/mattw/results/fly/2019_07_01_fly2/dlc-arhmm/obs=ar_trans=standard_lags=2_K=12.pkl\n",
      "Fitting arhmm-2 with 15 states\n"
     ]
    },
    {
     "data": {
      "text/plain": [
       "HBox(children=(IntProgress(value=0, max=50), HTML(value='')))"
      ]
     },
     "metadata": {},
     "output_type": "display_data"
    },
    {
     "name": "stdout",
     "output_type": "stream",
     "text": [
      "saving model to /home/mattw/results/fly/2019_07_01_fly2/dlc-arhmm/obs=ar_trans=standard_lags=2_K=15.pkl\n",
      "Fitting arhmm-2 with 18 states\n"
     ]
    },
    {
     "data": {
      "text/plain": [
       "HBox(children=(IntProgress(value=0, max=50), HTML(value='')))"
      ]
     },
     "metadata": {},
     "output_type": "display_data"
    },
    {
     "name": "stdout",
     "output_type": "stream",
     "text": [
      "saving model to /home/mattw/results/fly/2019_07_01_fly2/dlc-arhmm/obs=ar_trans=standard_lags=2_K=18.pkl\n",
      "Fitting arhmm-3 with 2 states\n"
     ]
    },
    {
     "data": {
      "text/plain": [
       "HBox(children=(IntProgress(value=0, max=50), HTML(value='')))"
      ]
     },
     "metadata": {},
     "output_type": "display_data"
    },
    {
     "name": "stdout",
     "output_type": "stream",
     "text": [
      "saving model to /home/mattw/results/fly/2019_07_01_fly2/dlc-arhmm/obs=ar_trans=standard_lags=3_K=02.pkl\n",
      "Fitting arhmm-3 with 3 states\n"
     ]
    },
    {
     "data": {
      "text/plain": [
       "HBox(children=(IntProgress(value=0, max=50), HTML(value='')))"
      ]
     },
     "metadata": {},
     "output_type": "display_data"
    },
    {
     "name": "stdout",
     "output_type": "stream",
     "text": [
      "saving model to /home/mattw/results/fly/2019_07_01_fly2/dlc-arhmm/obs=ar_trans=standard_lags=3_K=03.pkl\n",
      "Fitting arhmm-3 with 4 states\n"
     ]
    },
    {
     "data": {
      "text/plain": [
       "HBox(children=(IntProgress(value=0, max=50), HTML(value='')))"
      ]
     },
     "metadata": {},
     "output_type": "display_data"
    },
    {
     "name": "stdout",
     "output_type": "stream",
     "text": [
      "saving model to /home/mattw/results/fly/2019_07_01_fly2/dlc-arhmm/obs=ar_trans=standard_lags=3_K=04.pkl\n",
      "Fitting arhmm-3 with 5 states\n"
     ]
    },
    {
     "data": {
      "text/plain": [
       "HBox(children=(IntProgress(value=0, max=50), HTML(value='')))"
      ]
     },
     "metadata": {},
     "output_type": "display_data"
    },
    {
     "name": "stdout",
     "output_type": "stream",
     "text": [
      "saving model to /home/mattw/results/fly/2019_07_01_fly2/dlc-arhmm/obs=ar_trans=standard_lags=3_K=05.pkl\n",
      "Fitting arhmm-3 with 6 states\n"
     ]
    },
    {
     "data": {
      "text/plain": [
       "HBox(children=(IntProgress(value=0, max=50), HTML(value='')))"
      ]
     },
     "metadata": {},
     "output_type": "display_data"
    },
    {
     "name": "stdout",
     "output_type": "stream",
     "text": [
      "saving model to /home/mattw/results/fly/2019_07_01_fly2/dlc-arhmm/obs=ar_trans=standard_lags=3_K=06.pkl\n",
      "Fitting arhmm-3 with 9 states\n"
     ]
    },
    {
     "data": {
      "text/plain": [
       "HBox(children=(IntProgress(value=0, max=50), HTML(value='')))"
      ]
     },
     "metadata": {},
     "output_type": "display_data"
    },
    {
     "name": "stdout",
     "output_type": "stream",
     "text": [
      "saving model to /home/mattw/results/fly/2019_07_01_fly2/dlc-arhmm/obs=ar_trans=standard_lags=3_K=09.pkl\n",
      "Fitting arhmm-3 with 12 states\n"
     ]
    },
    {
     "data": {
      "text/plain": [
       "HBox(children=(IntProgress(value=0, max=50), HTML(value='')))"
      ]
     },
     "metadata": {},
     "output_type": "display_data"
    },
    {
     "name": "stdout",
     "output_type": "stream",
     "text": [
      "saving model to /home/mattw/results/fly/2019_07_01_fly2/dlc-arhmm/obs=ar_trans=standard_lags=3_K=12.pkl\n",
      "Fitting arhmm-3 with 15 states\n"
     ]
    },
    {
     "data": {
      "text/plain": [
       "HBox(children=(IntProgress(value=0, max=50), HTML(value='')))"
      ]
     },
     "metadata": {},
     "output_type": "display_data"
    },
    {
     "name": "stdout",
     "output_type": "stream",
     "text": [
      "saving model to /home/mattw/results/fly/2019_07_01_fly2/dlc-arhmm/obs=ar_trans=standard_lags=3_K=15.pkl\n",
      "Fitting arhmm-3 with 18 states\n"
     ]
    },
    {
     "data": {
      "text/plain": [
       "HBox(children=(IntProgress(value=0, max=50), HTML(value='')))"
      ]
     },
     "metadata": {},
     "output_type": "display_data"
    },
    {
     "name": "stdout",
     "output_type": "stream",
     "text": [
      "saving model to /home/mattw/results/fly/2019_07_01_fly2/dlc-arhmm/obs=ar_trans=standard_lags=3_K=18.pkl\n",
      "Fitting arhmm-5 with 2 states\n"
     ]
    },
    {
     "data": {
      "text/plain": [
       "HBox(children=(IntProgress(value=0, max=50), HTML(value='')))"
      ]
     },
     "metadata": {},
     "output_type": "display_data"
    },
    {
     "name": "stdout",
     "output_type": "stream",
     "text": [
      "saving model to /home/mattw/results/fly/2019_07_01_fly2/dlc-arhmm/obs=ar_trans=standard_lags=5_K=02.pkl\n",
      "Fitting arhmm-5 with 3 states\n"
     ]
    },
    {
     "data": {
      "text/plain": [
       "HBox(children=(IntProgress(value=0, max=50), HTML(value='')))"
      ]
     },
     "metadata": {},
     "output_type": "display_data"
    },
    {
     "name": "stdout",
     "output_type": "stream",
     "text": [
      "saving model to /home/mattw/results/fly/2019_07_01_fly2/dlc-arhmm/obs=ar_trans=standard_lags=5_K=03.pkl\n",
      "Fitting arhmm-5 with 4 states\n"
     ]
    },
    {
     "data": {
      "text/plain": [
       "HBox(children=(IntProgress(value=0, max=50), HTML(value='')))"
      ]
     },
     "metadata": {},
     "output_type": "display_data"
    },
    {
     "name": "stdout",
     "output_type": "stream",
     "text": [
      "saving model to /home/mattw/results/fly/2019_07_01_fly2/dlc-arhmm/obs=ar_trans=standard_lags=5_K=04.pkl\n",
      "Fitting arhmm-5 with 5 states\n"
     ]
    },
    {
     "data": {
      "text/plain": [
       "HBox(children=(IntProgress(value=0, max=50), HTML(value='')))"
      ]
     },
     "metadata": {},
     "output_type": "display_data"
    },
    {
     "name": "stdout",
     "output_type": "stream",
     "text": [
      "saving model to /home/mattw/results/fly/2019_07_01_fly2/dlc-arhmm/obs=ar_trans=standard_lags=5_K=05.pkl\n",
      "Fitting arhmm-5 with 6 states\n"
     ]
    },
    {
     "data": {
      "text/plain": [
       "HBox(children=(IntProgress(value=0, max=50), HTML(value='')))"
      ]
     },
     "metadata": {},
     "output_type": "display_data"
    },
    {
     "name": "stdout",
     "output_type": "stream",
     "text": [
      "saving model to /home/mattw/results/fly/2019_07_01_fly2/dlc-arhmm/obs=ar_trans=standard_lags=5_K=06.pkl\n",
      "Fitting arhmm-5 with 9 states\n"
     ]
    },
    {
     "data": {
      "text/plain": [
       "HBox(children=(IntProgress(value=0, max=50), HTML(value='')))"
      ]
     },
     "metadata": {},
     "output_type": "display_data"
    },
    {
     "name": "stdout",
     "output_type": "stream",
     "text": [
      "saving model to /home/mattw/results/fly/2019_07_01_fly2/dlc-arhmm/obs=ar_trans=standard_lags=5_K=09.pkl\n",
      "Fitting arhmm-5 with 12 states\n"
     ]
    },
    {
     "data": {
      "text/plain": [
       "HBox(children=(IntProgress(value=0, max=50), HTML(value='')))"
      ]
     },
     "metadata": {},
     "output_type": "display_data"
    },
    {
     "name": "stdout",
     "output_type": "stream",
     "text": [
      "saving model to /home/mattw/results/fly/2019_07_01_fly2/dlc-arhmm/obs=ar_trans=standard_lags=5_K=12.pkl\n",
      "Fitting arhmm-5 with 15 states\n"
     ]
    },
    {
     "data": {
      "text/plain": [
       "HBox(children=(IntProgress(value=0, max=50), HTML(value='')))"
      ]
     },
     "metadata": {},
     "output_type": "display_data"
    },
    {
     "name": "stdout",
     "output_type": "stream",
     "text": [
      "saving model to /home/mattw/results/fly/2019_07_01_fly2/dlc-arhmm/obs=ar_trans=standard_lags=5_K=15.pkl\n",
      "Fitting arhmm-5 with 18 states\n"
     ]
    },
    {
     "data": {
      "text/plain": [
       "HBox(children=(IntProgress(value=0, max=50), HTML(value='')))"
      ]
     },
     "metadata": {},
     "output_type": "display_data"
    },
    {
     "name": "stdout",
     "output_type": "stream",
     "text": [
      "saving model to /home/mattw/results/fly/2019_07_01_fly2/dlc-arhmm/obs=ar_trans=standard_lags=5_K=18.pkl\n"
     ]
    }
   ],
   "source": [
    "# %autoreload 2\n",
    "# import flygenvectors.ssmutils as ssmutils\n",
    "n_states = [2, 3, 4, 5, 6, 9, 12, 15, 18]\n",
    "# n_states = [9]\n",
    "D = dlc_obj.labels_dict['train'][0].shape[1]\n",
    "sticky_lags = 3\n",
    "model_kwargs = {\n",
    "#     'hmm': {\n",
    "#         'transitions': 'standard', \n",
    "#         'observations': 'gaussian'},\n",
    "#     'arhmm-s2-%i' % sticky_lags: {\n",
    "#         'transitions': 'sticky', \n",
    "#         'transition_kwargs': {'kappa': 1e2},\n",
    "#         'observations': 'ar',\n",
    "#         'observation_kwargs': {'lags': sticky_lags}},\n",
    "    'arhmm-s4-%i' % sticky_lags: {\n",
    "        'transitions': 'sticky', \n",
    "        'transition_kwargs': {'kappa': 1e4},\n",
    "        'observations': 'ar',\n",
    "        'observation_kwargs': {'lags': sticky_lags}},\n",
    "    'arhmm-s6-%i' % sticky_lags: {\n",
    "        'transitions': 'sticky', \n",
    "        'transition_kwargs': {'kappa': 1e6},\n",
    "        'observations': 'ar',\n",
    "        'observation_kwargs': {'lags': sticky_lags}},\n",
    "    'arhmm-s8-%i' % sticky_lags: {\n",
    "        'transitions': 'sticky', \n",
    "        'transition_kwargs': {'kappa': 1e8},\n",
    "        'observations': 'ar',\n",
    "        'observation_kwargs': {'lags': sticky_lags}},\n",
    "    'arhmm-1': {\n",
    "        'transitions': 'standard', \n",
    "        'observations': 'ar',\n",
    "        'observation_kwargs': {'lags': 1}},\n",
    "    'arhmm-2': {\n",
    "        'transitions': 'standard', \n",
    "        'observations': 'ar',\n",
    "        'observation_kwargs': {'lags': 2}},\n",
    "    'arhmm-3': {\n",
    "        'transitions': 'standard', \n",
    "        'observations': 'ar',\n",
    "        'observation_kwargs': {'lags': 3}},\n",
    "    'arhmm-5': {\n",
    "        'transitions': 'standard', \n",
    "        'observations': 'ar',\n",
    "        'observation_kwargs': {'lags': 5}},\n",
    "#     'arhmm-7': {\n",
    "#         'transitions': 'standard', \n",
    "#         'observations': 'ar',\n",
    "#         'observation_kwargs': {'lags': 7}},\n",
    "}\n",
    "\n",
    "fit_kwargs = {\n",
    "    'save': True,\n",
    "    'load_if_exists': True,\n",
    "    'expt_id': expt_id,\n",
    "    'model_dir': model_dir,\n",
    "    'save_dir': None}\n",
    "\n",
    "all_results = {}\n",
    "# iterate over model types\n",
    "for model_name, kwargs in model_kwargs.items():\n",
    "#     if model_name in all_results and len(all_results[model_name] == n_states):\n",
    "#         continue\n",
    "    model_results = {}\n",
    "    # iterate over discrete states\n",
    "    for K in n_states:\n",
    "        print('Fitting %s with %i states' % (model_name, K))\n",
    "        model_results[K] = ssmutils.fit_model(\n",
    "            n_states=K, data_dim=D, input_dim=0, model_kwargs=kwargs,\n",
    "            data_tr=dlc_obj.labels_dict['train'], \n",
    "            data_val=dlc_obj.labels_dict['val'],\n",
    "            data_test=dlc_obj.labels_dict['test'],\n",
    "            fit_kwargs=fit_kwargs)\n",
    "    all_results[model_name] = model_results"
   ]
  },
  {
   "cell_type": "code",
   "execution_count": 7,
   "metadata": {},
   "outputs": [
    {
     "data": {
      "text/plain": [
       "<matplotlib.legend.Legend at 0x7f1797d161d0>"
      ]
     },
     "execution_count": 7,
     "metadata": {},
     "output_type": "execute_result"
    },
    {
     "data": {
      "image/png": "[encoded data removed]",
      "text/plain": [
       "<Figure size 576x432 with 1 Axes>"
      ]
     },
     "metadata": {},
     "output_type": "display_data"
    }
   ],
   "source": [
    "fig = plotting.plot_validation_likelihoods(\n",
    "    all_results=all_results, \n",
    "    T_val=np.sum([d.shape[0] for d in dlc_obj.labels_dict['val']]))\n",
    "plt.legend(loc='lower right', frameon=False)"
   ]
  },
  {
   "cell_type": "markdown",
   "metadata": {},
   "source": [
    "# 3. Probe learned dynamics"
   ]
  },
  {
   "cell_type": "code",
   "execution_count": 8,
   "metadata": {},
   "outputs": [
    {
     "ename": "KeyError",
     "evalue": "'arhmm-7'",
     "traceback": [
      "\u001b[0;31m---------------------------------------------------------------------------\u001b[0m",
      "\u001b[0;31mKeyError\u001b[0m                                  Traceback (most recent call last)",
      "\u001b[0;32m<ipython-input-8-0ce827344ac3>\u001b[0m in \u001b[0;36m<module>\u001b[0;34m\u001b[0m\n\u001b[1;32m      4\u001b[0m \u001b[0mmodel_name\u001b[0m \u001b[0;34m=\u001b[0m \u001b[0mstr\u001b[0m\u001b[0;34m(\u001b[0m\u001b[0;34m'arhmm-%i'\u001b[0m \u001b[0;34m%\u001b[0m \u001b[0mn_lags\u001b[0m\u001b[0;34m)\u001b[0m\u001b[0;34m\u001b[0m\u001b[0;34m\u001b[0m\u001b[0m\n\u001b[1;32m      5\u001b[0m \u001b[0mdtype\u001b[0m \u001b[0;34m=\u001b[0m \u001b[0;34m'train'\u001b[0m\u001b[0;34m\u001b[0m\u001b[0;34m\u001b[0m\u001b[0m\n\u001b[0;32m----> 6\u001b[0;31m \u001b[0marhmm\u001b[0m \u001b[0;34m=\u001b[0m \u001b[0mall_results\u001b[0m\u001b[0;34m[\u001b[0m\u001b[0mmodel_name\u001b[0m\u001b[0;34m]\u001b[0m\u001b[0;34m[\u001b[0m\u001b[0mK\u001b[0m\u001b[0;34m]\u001b[0m\u001b[0;34m[\u001b[0m\u001b[0;34m'model'\u001b[0m\u001b[0;34m]\u001b[0m\u001b[0;34m\u001b[0m\u001b[0;34m\u001b[0m\u001b[0m\n\u001b[0m\u001b[1;32m      7\u001b[0m \u001b[0;31m# get most likely states\u001b[0m\u001b[0;34m\u001b[0m\u001b[0;34m\u001b[0m\u001b[0;34m\u001b[0m\u001b[0m\n\u001b[1;32m      8\u001b[0m \u001b[0mstates_all\u001b[0m \u001b[0;34m=\u001b[0m \u001b[0;34m[\u001b[0m\u001b[0marhmm\u001b[0m\u001b[0;34m.\u001b[0m\u001b[0mmost_likely_states\u001b[0m\u001b[0;34m(\u001b[0m\u001b[0md\u001b[0m\u001b[0;34m)\u001b[0m \u001b[0;32mfor\u001b[0m \u001b[0md\u001b[0m \u001b[0;32min\u001b[0m \u001b[0mdlc_obj\u001b[0m\u001b[0;34m.\u001b[0m\u001b[0mlabels_dict\u001b[0m\u001b[0;34m[\u001b[0m\u001b[0mdtype\u001b[0m\u001b[0;34m]\u001b[0m\u001b[0;34m]\u001b[0m\u001b[0;34m\u001b[0m\u001b[0;34m\u001b[0m\u001b[0m\n",
      "\u001b[0;31mKeyError\u001b[0m: 'arhmm-7'"
     ],
     "output_type": "error"
    }
   ],
   "source": [
    "# choose model\n",
    "K = 9\n",
    "n_lags = 7\n",
    "model_name = str('arhmm-%i' % n_lags)\n",
    "dtype = 'train'\n",
    "arhmm = all_results[model_name][K]['model']\n",
    "# get most likely states\n",
    "states_all = [arhmm.most_likely_states(d) for d in dlc_obj.labels_dict[dtype]]"
   ]
  },
  {
   "cell_type": "code",
   "execution_count": null,
   "metadata": {},
   "outputs": [],
   "source": [
    "# state usage plot"
   ]
  },
  {
   "cell_type": "code",
   "execution_count": null,
   "metadata": {},
   "outputs": [],
   "source": [
    "%autoreload\n",
    "fig = plotting.plot_dynamics_matrices(arhmm, deridge=False)"
   ]
  },
  {
   "cell_type": "code",
   "execution_count": null,
   "metadata": {},
   "outputs": [],
   "source": [
    "fig = plotting.plot_covariance_matrices(arhmm)"
   ]
  },
  {
   "cell_type": "code",
   "execution_count": null,
   "metadata": {},
   "outputs": [],
   "source": [
    "fig = plotting.plot_biases(arhmm)"
   ]
  },
  {
   "cell_type": "code",
   "execution_count": null,
   "metadata": {},
   "outputs": [],
   "source": [
    "fig = plotting.plot_state_transition_matrix(arhmm)"
   ]
  },
  {
   "cell_type": "markdown",
   "metadata": {},
   "source": [
    "### find multiple snippets of validation data for each state"
   ]
  },
  {
   "cell_type": "code",
   "execution_count": null,
   "metadata": {},
   "outputs": [],
   "source": [
    "# infer all states and plot dlc lablels\n",
    "states_ = arhmm.most_likely_states(dlc_obj.get_label_array())\n",
    "slc = (75000, 75200)\n",
    "fig = plotting.plot_dlc_arhmm_states(\n",
    "    dlc_labels=dlc_obj.labels, state_probs=None, states=states_, slc=slc)"
   ]
  },
  {
   "cell_type": "code",
   "execution_count": null,
   "metadata": {},
   "outputs": [],
   "source": [
    "# import pickle\n",
    "# data = {\n",
    "#     'states_train': [arhmm.most_likely_states(d) for d in dlc_obj.labels_dict['train']],\n",
    "#     'states_val': [arhmm.most_likely_states(d) for d in dlc_obj.labels_dict['val']],\n",
    "#     'idxs_train': dlc_obj.idxs_dict['train'],\n",
    "#     'idxs_val': dlc_obj.idxs_dict['val']}\n",
    "# with open('/home/mattw/results/fly/arhmm_dlc_states.pkl', 'wb') as f:\n",
    "#     pickle.dump(data, f)"
   ]
  },
  {
   "cell_type": "code",
   "execution_count": null,
   "metadata": {},
   "outputs": [],
   "source": [
    "# collect all state snippets\n",
    "indx_snippets = ssmutils.extract_state_runs(\n",
    "    states_all, dlc_obj.idxs_dict[dtype], min_length=2)\n",
    "\n",
    "# get dlc labels\n",
    "dlc_snippets = [{'x': [], 'y': []} for _ in range(K)]\n",
    "state_lengths = [[] for _ in range(K)]\n",
    "for k, k_indxs in enumerate(indx_snippets):\n",
    "    for k_indx in k_indxs:\n",
    "        state_lengths[k].append(len(k_indx))\n",
    "        for coord in ['x', 'y']:\n",
    "            dlc_snippets[k][coord].append(dlc_obj.labels[coord][k_indx])        \n",
    "state_lengths = [np.array(state_lengths[k]) for k in range(K)]"
   ]
  },
  {
   "cell_type": "code",
   "execution_count": null,
   "metadata": {},
   "outputs": [],
   "source": [
    "# plot distribution of state durations\n",
    "n_cols = 3\n",
    "n_rows = np.ceil(K / n_cols)\n",
    "\n",
    "fig = plt.figure(figsize=(4 * n_cols, 4 * n_rows))\n",
    "\n",
    "for i, slens in enumerate(state_lengths):\n",
    "    plt.subplot(n_rows, n_cols, i + 1)\n",
    "    plt.hist(slens) #, range=(0, 100))\n",
    "    plt.title(str('State %i' % i))\n",
    "    if plt.gca().is_first_col():\n",
    "        plt.ylabel('Count')\n",
    "    if plt.gca().is_last_row():\n",
    "        plt.xlabel('State duration')\n",
    "plt.tight_layout()\n",
    "plt.show()"
   ]
  },
  {
   "cell_type": "markdown",
   "metadata": {},
   "source": [
    "### check for state consistency across lags"
   ]
  },
  {
   "cell_type": "code",
   "execution_count": null,
   "metadata": {},
   "outputs": [],
   "source": [
    "# K = 12\n",
    "# dtype = 'train'\n",
    "# lags = [1, 2, 3, 5]\n",
    "# states_ = {l:None for l in lags}\n",
    "\n",
    "# for lag in lags:\n",
    "#     if lag == 1:\n",
    "#         model_name = 'arhmm'\n",
    "#     else:\n",
    "#         model_name = str('arhmm-%i' % lag)\n",
    "#     arhmm = all_results[model_name][K]['model']\n",
    "#     states_[lag] = arhmm.most_likely_states(dlc_array)"
   ]
  },
  {
   "cell_type": "code",
   "execution_count": null,
   "metadata": {},
   "outputs": [],
   "source": [
    "# slc = (75000, 75200)\n",
    "\n",
    "# fig, axes = plt.subplots(\n",
    "#     len(lags), 1, figsize=(10, 1.5 * len(lags)),\n",
    "#     gridspec_kw={'height_ratios': [1 / len(lags)] * len(lags)})\n",
    "\n",
    "# for i, l in enumerate(lags):\n",
    "#     axes[i].imshow(states_[l][None, slice(*slc)], aspect='auto', cmap='tab20b')\n",
    "#     axes[i].set_xticks([])\n",
    "#     axes[i].set_yticks([])\n",
    "#     axes[i].set_ylabel('%i lags' % l)\n",
    "# plt.tight_layout()\n",
    "# plt.show()"
   ]
  },
  {
   "cell_type": "code",
   "execution_count": null,
   "metadata": {},
   "outputs": [],
   "source": [
    "# %autoreload 2\n",
    "fig = plotting.make_syllable_plots(\n",
    "    dlc_snippets, max_snippets=5, max_t=100, coord='y', states_to_plot=[7, 8])"
   ]
  }
 ],
 "metadata": {
  "anaconda-cloud": {},
  "kernelspec": {
   "display_name": "fly",
   "language": "python",
   "name": "fly"
  },
  "language_info": {
   "codemirror_mode": {
    "name": "ipython",
    "version": 3.0
   },
   "file_extension": ".py",
   "mimetype": "text/x-python",
   "name": "python",
   "nbconvert_exporter": "python",
   "pygments_lexer": "ipython3",
   "version": "3.6.9"
  }
 },
 "nbformat": 4,
 "nbformat_minor": 0
}